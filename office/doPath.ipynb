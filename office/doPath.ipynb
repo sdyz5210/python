{
 "cells": [
  {
   "cell_type": "code",
   "execution_count": 7,
   "metadata": {},
   "outputs": [],
   "source": [
    "import sys,os"
   ]
  },
  {
   "cell_type": "code",
   "execution_count": 10,
   "metadata": {},
   "outputs": [
    {
     "name": "stdout",
     "output_type": "stream",
     "text": [
      "cp -rpv /share/seq_dir/ngs/RD/BYZ2015600 /share/archived001/RD/\n",
      "cp -rpv /share/seq_dir/ngs/RD/BYZ2016009 /share/archived001/RD/\n",
      "cp -rpv /share/seq_dir/ngs/RD/BYZ2017001 /share/archived001/RD/\n",
      "cp -rpv /share/seq_dir/ngs/RD/BYZ2017004 /share/archived001/RD/\n",
      "cp -rpv /share/seq_dir/ngs/RD/BYZ2017014 /share/archived001/RD/\n",
      "cp -rpv /share/seq_dir/ngs/RD/BYZ2017015 /share/archived001/RD/\n",
      "cp -rpv /share/seq_dir/ngs/RD/BYZ2017016 /share/archived001/RD/\n",
      "cp -rpv /share/seq_dir/ngs/RD/BYZ2017017 /share/archived001/RD/\n",
      "cp -rpv /share/seq_dir/ngs/RD/BYZ2017020 /share/archived001/RD/\n",
      "cp -rpv /share/seq_dir/ngs/RD/BYZ2017022 /share/archived001/RD/\n",
      "cp -rpv /share/seq_dir/ngs/RD/BYZ2018001 /share/archived001/RD/\n",
      "cp -rpv /share/seq_dir/ngs/RD/BYZ2018011 /share/archived001/RD/\n",
      "cp -rpv /share/seq_dir/ngs/RD/BYZ2018012 /share/archived001/RD/\n",
      "cp -rpv /share/seq_dir/ngs/RD/BYZ2018013 /share/archived001/RD/\n",
      "cp -rpv /share/seq_dir/ngs/RD/BYZ2018014 /share/archived001/RD/\n",
      "cp -rpv /share/seq_dir/ngs/RD/BYZ2018015 /share/archived001/RD/\n",
      "cp -rpv /share/seq_dir/ngs/RD/BYZ2018016 /share/archived001/RD/\n",
      "cp -rpv /share/seq_dir/ngs/RD/BYZ2018044 /share/archived001/RD/\n",
      "cp -rpv /share/seq_dir/ngs/RD/BYZ2019001 /share/archived001/RD/\n",
      "cp -rpv /share/seq_dir/ngs/RD/BYZ2019004 /share/archived001/RD/\n",
      "cp -rpv /share/seq_dir/ngs/RD/BYZ2019011 /share/archived001/RD/\n",
      "cp -rpv /share/seq_dir/ngs/RD/BYZ2019013 /share/archived001/RD/\n",
      "cp -rpv /share/seq_dir/ngs/RD/BYZ2019014 /share/archived001/RD/\n",
      "cp -rpv /share/seq_dir/ngs/RD/BYZ2019015 /share/archived001/RD/\n",
      "cp -rpv /share/seq_dir/ngs/RD/BYZ2019041 /share/archived001/RD/\n",
      "cp -rpv /share/seq_dir/ngs/RD/BYZ2019051 /share/archived001/RD/\n",
      "cp -rpv /share/seq_dir/ngs/RD/BYZ2019052 /share/archived001/RD/\n",
      "cp -rpv /share/seq_dir/ngs/RD/BYZ2020001 /share/archived001/RD/\n",
      "cp -rpv /share/seq_dir/ngs/RD/KY2016009 /share/archived001/RD/\n",
      "cp -rpv /share/seq_dir/ngs/RD/KY2017004 /share/archived001/RD/\n",
      "cp -rpv /share/seq_dir/ngs/RD/KY2018001 /share/archived001/RD/\n",
      "cp -rpv /share/seq_dir/ngs/RD/KY2019002 /share/archived001/RD/\n"
     ]
    }
   ],
   "source": [
    "filePath=\"/Users/mac/Documents/berry/04-IT/02-存储资源/path.txt\"\n",
    "with open(filePath,\"r\") as f:\n",
    "    lines = f.readlines()\n",
    "    for line in lines:\n",
    "        print(\"cp -rpv /share/seq_dir/ngs/RD/\"+line.strip()+\" /share/archived001/RD/\")"
   ]
  },
  {
   "cell_type": "code",
   "execution_count": 8,
   "metadata": {},
   "outputs": [
    {
     "name": "stdout",
     "output_type": "stream",
     "text": [
      "cp -rpv /share/archived_temp/KY2017007 /share/archived001/RD/\n",
      "cp -rpv /share/archived_temp/KY2017011 /share/archived001/RD/\n",
      "cp -rpv /share/archived_temp/KY2017010 /share/archived001/RD/\n",
      "cp -rpv /share/archived_temp/SS/KY2017003 /share/archived001/RD/\n",
      "cp -rpv /share/archived_temp/SS/KY2017007 /share/archived001/RD/\n",
      "cp -rpv /share/archived_temp/KY2017003 /share/archived001/RD/\n",
      "cp -rpv /share/archived_temp/SS/BYZ2017015 /share/archived001/RD/\n",
      "cp -rpv /share/archived_temp/SS/KY2017009 /share/archived001/RD/\n",
      "cp -rpv /share/archived_temp/KY2016009 /share/archived001/RD/\n",
      "cp -rpv /share/archived_temp/KY2015021 /share/archived001/RD/\n",
      "cp -rpv /share/archived_temp/SS/KY2017011 /share/archived001/RD/\n",
      "cp -rpv /share/archived_temp/SS/KY2017010 /share/archived001/RD/\n",
      "cp -rpv /share/archived_temp/SS/KY2017004 /share/archived001/RD/\n",
      "cp -rpv /share/archived_temp/KY2017004 /share/archived001/RD/\n",
      "cp -rpv /share/archived_temp/SS/KY2015021 /share/archived001/RD/\n"
     ]
    }
   ],
   "source": [
    "filePath=\"/Users/mac/Documents/berry/04-IT/02-存储资源/path.txt\"\n",
    "s = set()\n",
    "with open(filePath,\"r\") as f:\n",
    "    lines = f.readlines()\n",
    "    for line in lines:\n",
    "        strs = line.split(\"/\")\n",
    "        if(strs[2]==\"SS\"):\n",
    "            newLines = \"cp -rpv /share/archived_temp/SS/\"+strs[3]+\" /share/archived001/RD/\"\n",
    "        else:\n",
    "            newLines = \"cp -rpv /share/archived_temp/\"+strs[2]+\" /share/archived001/RD/\"\n",
    "        s.add(newLines)\n",
    "for ss in s:\n",
    "    print(ss)"
   ]
  },
  {
   "cell_type": "code",
   "execution_count": null,
   "metadata": {},
   "outputs": [],
   "source": []
  }
 ],
 "metadata": {
  "kernelspec": {
   "display_name": "Python 3",
   "language": "python",
   "name": "python3"
  },
  "language_info": {
   "codemirror_mode": {
    "name": "ipython",
    "version": 3
   },
   "file_extension": ".py",
   "mimetype": "text/x-python",
   "name": "python",
   "nbconvert_exporter": "python",
   "pygments_lexer": "ipython3",
   "version": "3.7.7"
  },
  "toc": {
   "base_numbering": 1,
   "nav_menu": {},
   "number_sections": true,
   "sideBar": true,
   "skip_h1_title": false,
   "title_cell": "Table of Contents",
   "title_sidebar": "Contents",
   "toc_cell": false,
   "toc_position": {},
   "toc_section_display": true,
   "toc_window_display": false
  }
 },
 "nbformat": 4,
 "nbformat_minor": 4
}
