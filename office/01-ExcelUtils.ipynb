{
 "cells": [
  {
   "cell_type": "code",
   "execution_count": 9,
   "metadata": {},
   "outputs": [],
   "source": [
    "'''\n",
    "    合并Excel表格\n",
    "'''\n",
    "\n",
    "import pandas as pd\n",
    "import os"
   ]
  },
  {
   "cell_type": "code",
   "execution_count": 10,
   "metadata": {},
   "outputs": [],
   "source": [
    "# 定义需要合并的所有Excel的目录\n",
    "workDir = \"/Users/mac/Documents/workspaces/github/python/office/test01/\"\n",
    "# 获取当前目录所有的文件列表\n",
    "fileNames = os.listdir(workDir)\n",
    "# 定义一个列表\n",
    "frames = []\n",
    "# 循环遍历逐一读取excel文件\n",
    "for fileName in fileNames:\n",
    "    # 获取当前文件的绝对路径\n",
    "    filePath = os.path.join(workDir,fileName)\n",
    "    # 使用pd去读excel文件\n",
    "    df = pd.read_excel(filePath)\n",
    "    frames.append(df)\n",
    "#合并并输出到一个excel中\n",
    "result = pd.concat(frames)\n",
    "result.to_excel(workDir+\"test.xls\",index=False) "
   ]
  },
  {
   "cell_type": "code",
   "execution_count": null,
   "metadata": {},
   "outputs": [],
   "source": []
  }
 ],
 "metadata": {
  "kernelspec": {
   "display_name": "Python 3",
   "language": "python",
   "name": "python3"
  },
  "language_info": {
   "codemirror_mode": {
    "name": "ipython",
    "version": 3
   },
   "file_extension": ".py",
   "mimetype": "text/x-python",
   "name": "python",
   "nbconvert_exporter": "python",
   "pygments_lexer": "ipython3",
   "version": "3.7.3"
  },
  "toc": {
   "base_numbering": 1,
   "nav_menu": {},
   "number_sections": true,
   "sideBar": true,
   "skip_h1_title": false,
   "title_cell": "Table of Contents",
   "title_sidebar": "Contents",
   "toc_cell": false,
   "toc_position": {},
   "toc_section_display": true,
   "toc_window_display": false
  }
 },
 "nbformat": 4,
 "nbformat_minor": 4
}
