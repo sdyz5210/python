{
 "cells": [
  {
   "cell_type": "code",
   "execution_count": 2,
   "metadata": {},
   "outputs": [],
   "source": [
    "from turtle import *\n",
    "from random import *\n",
    "from math import *\n",
    "\n",
    "%matplotlib inline"
   ]
  },
  {
   "cell_type": "code",
   "execution_count": 3,
   "metadata": {},
   "outputs": [],
   "source": [
    "def tree(n,l):\n",
    "    pd()\n",
    "    t = cos(radians(heading()+45))/8+0.25\n",
    "    pencolor(t,t,t)\n",
    "    pensize(n/4)\n",
    "    forward(l)\n",
    "    if n>0:\n",
    "        b = random()*15+10\n",
    "        c = random()*15+10\n",
    "        d = l*(random()*0.35+0.6)\n",
    "        right(b)\n",
    "        tree(n-1,d)\n",
    "        left(b+c)\n",
    "        tree(n-1,d)\n",
    "        right(c)\n",
    "    else:\n",
    "        right(90)\n",
    "        n = cos(radians(heading()-45))/4+0.5\n",
    "        pencolor(n,n,n)\n",
    "        circle(2)\n",
    "        left(90)\n",
    "    pu()\n",
    "    backward(l)\n",
    "\n",
    "bgcolor(0.5,0.5,0.5)\n",
    "ht()\n",
    "speed(0)\n",
    "tracer(0,0)\n",
    "left(90)\n",
    "pu()\n",
    "backward(300)\n",
    "tree(13,100)\n",
    "done()"
   ]
  },
  {
   "cell_type": "code",
   "execution_count": null,
   "metadata": {},
   "outputs": [],
   "source": []
  }
 ],
 "metadata": {
  "kernelspec": {
   "display_name": "Python 2",
   "language": "python",
   "name": "python2"
  },
  "language_info": {
   "codemirror_mode": {
    "name": "ipython",
    "version": 2
   },
   "file_extension": ".py",
   "mimetype": "text/x-python",
   "name": "python",
   "nbconvert_exporter": "python",
   "pygments_lexer": "ipython2",
   "version": "2.7.10"
  },
  "toc": {
   "base_numbering": 1,
   "nav_menu": {},
   "number_sections": true,
   "sideBar": true,
   "skip_h1_title": false,
   "title_cell": "Table of Contents",
   "title_sidebar": "Contents",
   "toc_cell": false,
   "toc_position": {},
   "toc_section_display": true,
   "toc_window_display": false
  }
 },
 "nbformat": 4,
 "nbformat_minor": 2
}
