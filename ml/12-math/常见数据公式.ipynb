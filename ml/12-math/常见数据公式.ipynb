{
 "cells": [
  {
   "cell_type": "markdown",
   "metadata": {},
   "source": [
    "# 常用数学公式计算方式\n",
    "\n",
    "导入常用的包"
   ]
  },
  {
   "cell_type": "code",
   "execution_count": 5,
   "metadata": {},
   "outputs": [],
   "source": [
    "import pandas as pd\n",
    "import numpy as np\n",
    "import matplotlib.pyplot as plt"
   ]
  },
  {
   "cell_type": "markdown",
   "metadata": {},
   "source": [
    "## 生成随机数\n",
    "\n",
    "生成一组符合正态分布的随机数据，数据量为1000个。"
   ]
  },
  {
   "cell_type": "code",
   "execution_count": 15,
   "metadata": {},
   "outputs": [
    {
     "data": {
      "text/plain": [
       "(array([0.00648762, 0.01297524, 0.01297524, 0.00648762, 0.        ,\n",
       "        0.03892573, 0.03243811, 0.07785146, 0.12326481, 0.12326481,\n",
       "        0.18165341, 0.12975243, 0.240042  , 0.27248011, 0.31789346,\n",
       "        0.2984306 , 0.35681919, 0.35033157, 0.36979444, 0.51252211,\n",
       "        0.47359638, 0.31140584, 0.43467065, 0.2984306 , 0.240042  ,\n",
       "        0.30491822, 0.19462865, 0.13624006, 0.17516579, 0.12326481,\n",
       "        0.09731433, 0.07785146, 0.03892573, 0.05190097, 0.01297524,\n",
       "        0.02595049, 0.01946287, 0.        , 0.        , 0.00648762]),\n",
       " array([-2.99461286, -2.84047317, -2.68633348, -2.53219379, -2.3780541 ,\n",
       "        -2.22391441, -2.06977472, -1.91563502, -1.76149533, -1.60735564,\n",
       "        -1.45321595, -1.29907626, -1.14493657, -0.99079688, -0.83665719,\n",
       "        -0.6825175 , -0.52837781, -0.37423812, -0.22009843, -0.06595873,\n",
       "         0.08818096,  0.24232065,  0.39646034,  0.55060003,  0.70473972,\n",
       "         0.85887941,  1.0130191 ,  1.16715879,  1.32129848,  1.47543817,\n",
       "         1.62957786,  1.78371756,  1.93785725,  2.09199694,  2.24613663,\n",
       "         2.40027632,  2.55441601,  2.7085557 ,  2.86269539,  3.01683508,\n",
       "         3.17097477]),\n",
       " <BarContainer object of 40 artists>)"
      ]
     },
     "execution_count": 15,
     "metadata": {},
     "output_type": "execute_result"
    },
    {
     "data": {
      "image/png": "[encoded data removed]",
      "text/plain": [
       "<Figure size 432x288 with 1 Axes>"
      ]
     },
     "metadata": {
      "needs_background": "light"
     },
     "output_type": "display_data"
    }
   ],
   "source": [
    "sampleNo = 1000;\n",
    "s = np.random.randn(sampleNo )\n",
    "plt.hist(s, 40, density=True,stacked=True)"
   ]
  },
  {
   "cell_type": "code",
   "execution_count": null,
   "metadata": {},
   "outputs": [],
   "source": []
  }
 ],
 "metadata": {
  "kernelspec": {
   "display_name": "Python 3",
   "language": "python",
   "name": "python3"
  },
  "language_info": {
   "codemirror_mode": {
    "name": "ipython",
    "version": 3
   },
   "file_extension": ".py",
   "mimetype": "text/x-python",
   "name": "python",
   "nbconvert_exporter": "python",
   "pygments_lexer": "ipython3",
   "version": "3.8.3"
  }
 },
 "nbformat": 4,
 "nbformat_minor": 4
}
