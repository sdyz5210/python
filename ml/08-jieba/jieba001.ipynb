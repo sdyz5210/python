{
 "cells": [
  {
   "cell_type": "code",
   "execution_count": 1,
   "metadata": {},
   "outputs": [],
   "source": [
    "import jieba"
   ]
  },
  {
   "cell_type": "code",
   "execution_count": 2,
   "metadata": {},
   "outputs": [
    {
     "name": "stderr",
     "output_type": "stream",
     "text": [
      "Building prefix dict from the default dictionary ...\n",
      "Dumping model to file cache /var/folders/xl/8tyk5m0156d5720rv9bq_f0h0000gn/T/jieba.cache\n",
      "Loading model cost 1.684 seconds.\n",
      "Prefix dict has been built successfully.\n"
     ]
    },
    {
     "name": "stdout",
     "output_type": "stream",
     "text": [
      "Full Mode: 我/ 来到/ 北京/ 清华/ 清华大学/ 华大/ 大学\n"
     ]
    }
   ],
   "source": [
    "seg_list = jieba.cut(\"我来到北京清华大学\", cut_all=True)\n",
    "print(\"Full Mode: \" + \"/ \".join(seg_list))  # 全模式"
   ]
  },
  {
   "cell_type": "code",
   "execution_count": 3,
   "metadata": {},
   "outputs": [
    {
     "name": "stdout",
     "output_type": "stream",
     "text": [
      "Default Mode: 我/ 来到/ 北京/ 清华大学\n"
     ]
    }
   ],
   "source": [
    "seg_list = jieba.cut(\"我来到北京清华大学\", cut_all=False)\n",
    "print(\"Default Mode: \" + \"/ \".join(seg_list))  # 精确模式"
   ]
  },
  {
   "cell_type": "code",
   "execution_count": 4,
   "metadata": {},
   "outputs": [
    {
     "name": "stdout",
     "output_type": "stream",
     "text": [
      "他, 来到, 了, 网易, 杭研, 大厦\n"
     ]
    }
   ],
   "source": [
    "seg_list = jieba.cut(\"他来到了网易杭研大厦\")  # 默认是精确模式\n",
    "print(\", \".join(seg_list))"
   ]
  },
  {
   "cell_type": "code",
   "execution_count": 5,
   "metadata": {},
   "outputs": [
    {
     "name": "stdout",
     "output_type": "stream",
     "text": [
      "小明, 硕士, 毕业, 于, 中国, 科学, 学院, 科学院, 中国科学院, 计算, 计算所, ，, 后, 在, 日本, 京都, 大学, 日本京都大学, 深造\n"
     ]
    }
   ],
   "source": [
    "seg_list = jieba.cut_for_search(\"小明硕士毕业于中国科学院计算所，后在日本京都大学深造\")  # 搜索引擎模式\n",
    "print(\", \".join(seg_list))"
   ]
  },
  {
   "cell_type": "code",
   "execution_count": 6,
   "metadata": {},
   "outputs": [],
   "source": [
    "import jieba.analyse"
   ]
  },
  {
   "cell_type": "code",
   "execution_count": 7,
   "metadata": {},
   "outputs": [
    {
     "name": "stdout",
     "output_type": "stream",
     "text": [
      "宪制 1.3431386920067796\n",
      "基本法 0.5232081223372882\n",
      "香港 0.4925521903983051\n",
      "秩序 0.37291551977135595\n",
      "特区 0.307537759819322\n",
      "香港回归 0.21210819137118644\n",
      "徐泽 0.20262317801525423\n",
      "政治化 0.1875841408118644\n",
      "走样 0.18569896055593219\n",
      "势能 0.1692992312974576\n",
      "用功 0.1631188395416949\n",
      "基础 0.16146544425491527\n",
      "行政长官 0.16010729416474578\n",
      "社会 0.15218715730745763\n",
      "研究会 0.14222524263305086\n",
      "青少年 0.13773095095644067\n",
      "氛围 0.13282868547949153\n",
      "会长 0.13202051377067797\n",
      "变形 0.13020470393694916\n",
      "着力 0.12551545925491525\n"
     ]
    }
   ],
   "source": [
    "#基于 TF-IDF（term frequency–inverse document frequency） 算法的关键词抽取\n",
    "sentence = '全国港澳研究会会长徐泽在会上发言指出，学习系列重要讲话要深刻领会 主席关于香港回归后的宪制基础和宪制秩序的论述，这是过去20年特别是中共十八大以来\"一国两制\"在香港实践取得成功的根本经验。首先，要在夯实 香港的宪制基础、巩固香港的宪制秩序上着力。只有牢牢确立起\"一国两制\"的宪制秩序，才能保证\"一国两制\"实践不走样 、不变形。其次，要在完善基本法实施的制度和机制上用功。中央直接行使的权力和特区高度自治权的结合是特区宪制秩 序不可或缺的两个方面，同时必须切实建立以行政长官为核心的行政主导体制。第三，要切实加强香港社会特别是针对公 职人员和青少年的宪法、基本法宣传，牢固树立\"一国\"意识，坚守\"一国\"原则。第四，要努力在全社会形成聚焦发展、抵 制泛政治化的氛围和势能，全面准确理解和落实基本法有关经济事务的规定，使香港继续在国家发展中发挥独特作用并由 此让最广大民众获得更实在的利益。'\n",
    "keywords = jieba.analyse.extract_tags(sentence, topK=20, withWeight=True, allowPOS=('n','nr','ns'))\n",
    "for item in keywords:\n",
    "    print(item[0],item[1])"
   ]
  },
  {
   "cell_type": "code",
   "execution_count": 9,
   "metadata": {},
   "outputs": [
    {
     "name": "stdout",
     "output_type": "stream",
     "text": [
      "宪制 1.0\n",
      "香港 0.6930406763657772\n",
      "基本法 0.5178769054437649\n",
      "基础 0.4844249380289333\n",
      "秩序 0.4739925633436452\n",
      "氛围 0.42359063921876033\n",
      "行政 0.4224429671243064\n",
      "核心 0.4208918886792533\n",
      "势能 0.42058680374594826\n",
      "用功 0.39329267112466926\n",
      "中央 0.3862738827335446\n",
      "行使 0.3828136853134997\n",
      "研究会 0.3571742065433395\n",
      "走样 0.3570220291592936\n",
      "徐泽 0.35597846394715604\n",
      "全国 0.35468288746243526\n",
      "变形 0.3544677988681329\n",
      "会长 0.3532791418443812\n",
      "青少年 0.34630473437183773\n",
      "宪法 0.3453127321277678\n"
     ]
    }
   ],
   "source": [
    "#基于 TextRank 算法的关键词抽取\n",
    "keywords = jieba.analyse.textrank(sentence, topK=20, withWeight=True, allowPOS=('n','nr','ns'))\n",
    "for item in keywords:\n",
    "    print(item[0],item[1])"
   ]
  },
  {
   "cell_type": "code",
   "execution_count": 10,
   "metadata": {},
   "outputs": [
    {
     "name": "stdout",
     "output_type": "stream",
     "text": [
      "我 r\n",
      "爱 v\n",
      "北京 ns\n",
      "天安门 ns\n"
     ]
    }
   ],
   "source": [
    "# 词性标注\n",
    "# 官方例程\n",
    "import jieba.posseg as pseg\n",
    "\n",
    "words = pseg.cut(\"我爱北京天安门\")\n",
    "# words类别为：generator\n",
    "\n",
    "for word, flag in words:\n",
    "    print('%s %s' % (word, flag))"
   ]
  },
  {
   "cell_type": "code",
   "execution_count": null,
   "metadata": {},
   "outputs": [],
   "source": []
  }
 ],
 "metadata": {
  "kernelspec": {
   "display_name": "Python 3",
   "language": "python",
   "name": "python3"
  },
  "language_info": {
   "codemirror_mode": {
    "name": "ipython",
    "version": 3
   },
   "file_extension": ".py",
   "mimetype": "text/x-python",
   "name": "python",
   "nbconvert_exporter": "python",
   "pygments_lexer": "ipython3",
   "version": "3.8.3"
  },
  "toc": {
   "base_numbering": 1,
   "nav_menu": {},
   "number_sections": true,
   "sideBar": true,
   "skip_h1_title": false,
   "title_cell": "Table of Contents",
   "title_sidebar": "Contents",
   "toc_cell": false,
   "toc_position": {},
   "toc_section_display": true,
   "toc_window_display": false
  }
 },
 "nbformat": 4,
 "nbformat_minor": 4
}
