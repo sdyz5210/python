{
 "cells": [
  {
   "cell_type": "code",
   "execution_count": 13,
   "metadata": {},
   "outputs": [],
   "source": [
    "import jieba\n",
    "jieba.load_userdict('user_dict.txt')"
   ]
  },
  {
   "cell_type": "code",
   "execution_count": 14,
   "metadata": {},
   "outputs": [],
   "source": [
    "s = \"单活胎，胎儿多发畸形（小脑延髓池增宽，第三脑室扩张，眼距窄,双肾缺如，脊柱侧弯,双侧前臂明显缩短，右手姿势异常，胸廓小，双肺发育不良,膀胱、胃泡显示不清，腹内段脐动脉、脐静脉走形异常扩张，脐带增粗，脐带内脐血管畸形动静脉瘘，华特氏胶水肿，脐带囊肿，无羊水，胎儿室间隔缺损，右室双出口\""
   ]
  },
  {
   "cell_type": "code",
   "execution_count": 15,
   "metadata": {},
   "outputs": [
    {
     "name": "stdout",
     "output_type": "stream",
     "text": [
      "单活/ 胎/ 胎儿/ 多发/ 畸形/ （/ 小脑/ 延髓/ 池/ 增宽/ 第三/ 脑室/ 扩张/ 眼距/ 窄/ 双肾/ 缺如/ 脊柱/ 侧弯/ 双侧/ 前臂/ 明显/ 缩短/ 右手/ 姿势/ 异常/ 胸廓/ 小/ 双肺/ 发育不良/ 膀胱/ 胃泡/ 显示/ 不清/ 腹内/ 段/ 脐/ 动脉/ 脐/ 静脉/ 走形/ 异常/ 扩张/ 脐带/ 增粗/ 脐带/ 内脐/ 血管/ 畸形/ 动静脉/ 瘘/ 华特/ 氏胶/ 水肿/ 脐带/ 囊肿/ 无/ 羊水/ 胎儿/ 室间隔/ 缺损/ 右室/ 双/ 出口\n"
     ]
    }
   ],
   "source": [
    "def stop_words(path):\n",
    "    with open(path) as f:\n",
    "        return [l.strip() for l in f]\n",
    "seg_list = [x for x in jieba.cut(s) if x not in stop_words(\"jieba002.stop_words.txt\")]\n",
    "print(\"/ \".join(seg_list))"
   ]
  },
  {
   "cell_type": "code",
   "execution_count": 18,
   "metadata": {},
   "outputs": [
    {
     "name": "stdout",
     "output_type": "stream",
     "text": [
      "单活/ 胎/ ，/ 胎儿/ 多发/ 畸形/ （/ 小脑/ 延髓/ 池/ 增宽/ ，/ 第三/ 脑室/ 扩张/ ，/ 眼距/ 窄/ ,/ 双肾/ 缺如/ ，/ 脊柱/ 侧弯/ ,/ 双侧/ 前臂/ 明显/ 缩短/ ，/ 右手/ 姿势/ 异常/ ，/ 胸廓/ 小/ ，/ 双肺/ 发育不良/ ,/ 膀胱/ 、/ 胃泡/ 显示/ 不清/ ，/ 腹内/ 段/ 脐/ 动脉/ 、/ 脐/ 静脉/ 走形/ 异常/ 扩张/ ，/ 脐带/ 增粗/ ，/ 脐带/ 内脐/ 血管/ 畸形/ 动静脉/ 瘘/ ，/ 华特/ 氏胶/ 水肿/ ，/ 脐带/ 囊肿/ ，/ 无/ 羊水/ ，/ 胎儿/ 室间隔/ 缺损/ ，/ 右室/ 双/ 出口\n"
     ]
    }
   ],
   "source": [
    "seg_list = jieba.lcut(s)\n",
    "print(\"/ \".join(seg_list))"
   ]
  },
  {
   "cell_type": "code",
   "execution_count": 20,
   "metadata": {},
   "outputs": [
    {
     "name": "stdout",
     "output_type": "stream",
     "text": [
      "[('，', 15), (',', 3), ('脐带', 3), ('胎儿', 2), ('畸形', 2)]\n"
     ]
    }
   ],
   "source": [
    "from collections import Counter\n",
    "top5= Counter(seg_list).most_common(5)\n",
    "print(top5)"
   ]
  },
  {
   "cell_type": "markdown",
   "metadata": {},
   "source": [
    "# 基于 TF-IDF 算法进行关键词提取"
   ]
  },
  {
   "cell_type": "code",
   "execution_count": 23,
   "metadata": {},
   "outputs": [
    {
     "name": "stdout",
     "output_type": "stream",
     "text": [
      "脐带/畸形/胎儿/右室/扩张/侧弯/异常/单活/眼距/双肾/双侧/双肺/胃泡/增粗/内脐/氏胶/室间隔/走形/缺如/动静脉\n"
     ]
    }
   ],
   "source": [
    "import jieba.analyse\n",
    "\n",
    "keywords = \"/\".join(jieba.analyse.extract_tags(s, topK=20, withWeight=False, allowPOS=()))\n",
    "print(keywords)"
   ]
  },
  {
   "cell_type": "code",
   "execution_count": 24,
   "metadata": {},
   "outputs": [
    {
     "name": "stdout",
     "output_type": "stream",
     "text": [
      "[('脐带', 1.0262749147741936), ('畸形', 0.5139215133135484), ('胎儿', 0.508208390903871), ('右室', 0.40368978357741936), ('单活胎', 0.38563766138387096), ('眼距', 0.38563766138387096), ('胃泡', 0.38563766138387096), ('内脐', 0.38563766138387096), ('氏胶', 0.38563766138387096), ('室间隔', 0.38563766138387096)]\n"
     ]
    }
   ],
   "source": [
    "  keywords =(jieba.analyse.extract_tags(s , topK=10, withWeight=True, allowPOS=(['n'])))\n",
    "  print(keywords)"
   ]
  },
  {
   "cell_type": "markdown",
   "metadata": {},
   "source": [
    "# 基于 TextRank 算法进行关键词提取"
   ]
  },
  {
   "cell_type": "code",
   "execution_count": 26,
   "metadata": {},
   "outputs": [
    {
     "name": "stdout",
     "output_type": "stream",
     "text": [
      "脐带/畸形/胎儿/扩张/右手/缺损/侧弯/羊水/前臂/动静脉/姿势/缩短/走形/膀胱/胃泡/显示/增宽/右室/小脑/室间隔\n"
     ]
    }
   ],
   "source": [
    "result = \"/\".join(jieba.analyse.textrank(s, topK=20, withWeight=False, allowPOS=('ns', 'n', 'vn', 'v')))\n",
    "print(result)"
   ]
  },
  {
   "cell_type": "markdown",
   "metadata": {},
   "source": [
    "# 例子"
   ]
  },
  {
   "cell_type": "code",
   "execution_count": 28,
   "metadata": {},
   "outputs": [
    {
     "name": "stdout",
     "output_type": "stream",
     "text": [
      "单活/胎/，/胎儿/多发/畸形/（/小脑/延髓/池/增宽/，/第三/脑室/扩张/，/眼距/窄/,/双肾/缺如/，/脊柱/侧弯/,/双侧/前臂/明显/缩短/，/右手/姿势/异常/，/胸廓/小/，/双肺/发育不良/,/膀胱/、/胃泡/显示/不清/，/腹内/段/脐/动脉/、/脐/静脉/走形/异常/扩张/，/脐带/增粗/，/脐带/内脐/血管/畸形/动静脉/瘘/，/华特/氏胶/水肿/，/脐带/囊肿/，/无/羊水/，/胎儿/室间隔/缺损/，/右室/双/出口\n"
     ]
    }
   ],
   "source": [
    "# 开始分词\n",
    "segs=jieba.lcut(s)\n",
    "print(\"/\".join(segs))"
   ]
  },
  {
   "cell_type": "code",
   "execution_count": 29,
   "metadata": {},
   "outputs": [
    {
     "name": "stdout",
     "output_type": "stream",
     "text": [
      "单活/胎/，/胎儿/多发/畸形/（/小脑/延髓/池/增宽/，/第三/脑室/扩张/，/眼距/窄/,/双肾/缺如/，/脊柱/侧弯/,/双侧/前臂/明显/缩短/，/右手/姿势/异常/，/胸廓/小/，/双肺/发育不良/,/膀胱/、/胃泡/显示/不清/，/腹内/段/脐/动脉/、/脐/静脉/走形/异常/扩张/，/脐带/增粗/，/脐带/内脐/血管/畸形/动静脉/瘘/，/华特/氏胶/水肿/，/脐带/囊肿/，/无/羊水/，/胎儿/室间隔/缺损/，/右室/双/出口\n"
     ]
    }
   ],
   "source": [
    "# 去数字\n",
    "segs = [v for v in segs if not str(v).isdigit()]#去数字\n",
    "print(\"/\".join(segs))"
   ]
  },
  {
   "cell_type": "code",
   "execution_count": 30,
   "metadata": {},
   "outputs": [
    {
     "name": "stdout",
     "output_type": "stream",
     "text": [
      "单活/胎/，/胎儿/多发/畸形/（/小脑/延髓/池/增宽/，/第三/脑室/扩张/，/眼距/窄/,/双肾/缺如/，/脊柱/侧弯/,/双侧/前臂/明显/缩短/，/右手/姿势/异常/，/胸廓/小/，/双肺/发育不良/,/膀胱/、/胃泡/显示/不清/，/腹内/段/脐/动脉/、/脐/静脉/走形/异常/扩张/，/脐带/增粗/，/脐带/内脐/血管/畸形/动静脉/瘘/，/华特/氏胶/水肿/，/脐带/囊肿/，/无/羊水/，/胎儿/室间隔/缺损/，/右室/双/出口\n"
     ]
    }
   ],
   "source": [
    "# 去左右空格\n",
    "segs = list(filter(lambda x:x.strip(), segs))   #去左右空格\n",
    "print(\"/\".join(segs))"
   ]
  },
  {
   "cell_type": "code",
   "execution_count": 37,
   "metadata": {
    "scrolled": true
   },
   "outputs": [
    {
     "name": "stdout",
     "output_type": "stream",
     "text": [
      "单活/胎/胎儿/多发/畸形/小脑/延髓/池/增宽/第三/脑室/扩张/眼距/窄/双肾/缺如/脊柱/侧弯/双侧/前臂/明显/缩短/右手/姿势/异常/胸廓/双肺/发育不良/膀胱/胃泡/显示/不清/腹内/段/脐/动脉/脐/静脉/走形/异常/扩张/脐带/增粗/脐带/内脐/血管/畸形/动静脉/瘘/华特/氏胶/水肿/脐带/囊肿/胎儿/室间隔/缺损/右室\n"
     ]
    }
   ],
   "source": [
    "# 去停用词,这里只是举例\n",
    "stopwords = ['无','双','出口','小','羊水','，','、',',','（','）']\n",
    "segs = list(filter(lambda x:x not in stopwords, segs)) #去掉停用词\n",
    "print(\"/\".join(segs))"
   ]
  },
  {
   "cell_type": "code",
   "execution_count": null,
   "metadata": {},
   "outputs": [],
   "source": []
  }
 ],
 "metadata": {
  "kernelspec": {
   "display_name": "Python 3",
   "language": "python",
   "name": "python3"
  },
  "language_info": {
   "codemirror_mode": {
    "name": "ipython",
    "version": 3
   },
   "file_extension": ".py",
   "mimetype": "text/x-python",
   "name": "python",
   "nbconvert_exporter": "python",
   "pygments_lexer": "ipython3",
   "version": "3.8.3"
  },
  "toc": {
   "base_numbering": 1,
   "nav_menu": {},
   "number_sections": true,
   "sideBar": true,
   "skip_h1_title": false,
   "title_cell": "Table of Contents",
   "title_sidebar": "Contents",
   "toc_cell": false,
   "toc_position": {},
   "toc_section_display": true,
   "toc_window_display": false
  }
 },
 "nbformat": 4,
 "nbformat_minor": 4
}
