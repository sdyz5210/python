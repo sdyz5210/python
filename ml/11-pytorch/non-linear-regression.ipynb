{
 "cells": [
  {
   "cell_type": "code",
   "execution_count": 1,
   "metadata": {
    "ExecuteTime": {
     "end_time": "2020-11-22T10:10:20.719219Z",
     "start_time": "2020-11-22T10:10:19.286661Z"
    }
   },
   "outputs": [],
   "source": [
    "import numpy as np\n",
    "import matplotlib.pyplot as plt\n",
    "from torch import nn,optim\n",
    "from torch.autograd import Variable\n",
    "import torch"
   ]
  },
  {
   "cell_type": "code",
   "execution_count": 6,
   "metadata": {
    "ExecuteTime": {
     "end_time": "2020-11-22T10:12:34.399723Z",
     "start_time": "2020-11-22T10:12:34.391898Z"
    }
   },
   "outputs": [],
   "source": [
    "#创建200个随机数\n",
    "x_data = np.linspace(-2,2,200)[:,np.newaxis]\n",
    "#创建噪音数据，形状和x_data一致\n",
    "nosie = np.random.normal(0,0.2,x_data.shape)\n",
    "y_data = np.square(x_data) + nosie"
   ]
  },
  {
   "cell_type": "code",
   "execution_count": 7,
   "metadata": {
    "ExecuteTime": {
     "end_time": "2020-11-22T10:12:35.261821Z",
     "start_time": "2020-11-22T10:12:34.996757Z"
    }
   },
   "outputs": [
    {
     "data": {
      "image/png": "[encoded data removed]",
      "text/plain": [
       "<Figure size 432x288 with 1 Axes>"
      ]
     },
     "metadata": {
      "needs_background": "light"
     },
     "output_type": "display_data"
    }
   ],
   "source": [
    "plt.scatter(x_data,y_data)\n",
    "plt.show()"
   ]
  },
  {
   "cell_type": "code",
   "execution_count": 8,
   "metadata": {
    "ExecuteTime": {
     "end_time": "2020-11-22T10:13:01.111581Z",
     "start_time": "2020-11-22T10:13:01.104191Z"
    }
   },
   "outputs": [],
   "source": [
    "# 把numpy数据转换成 tensor\n",
    "x_data = torch.FloatTensor(x_data)\n",
    "y_data = torch.FloatTensor(y_data)\n",
    "inputs = Variable(x_data)\n",
    "target = Variable(y_data)"
   ]
  },
  {
   "cell_type": "code",
   "execution_count": 9,
   "metadata": {
    "ExecuteTime": {
     "end_time": "2020-11-22T10:17:46.302223Z",
     "start_time": "2020-11-22T10:17:46.291785Z"
    }
   },
   "outputs": [],
   "source": [
    "# 构建神经网络模型\n",
    "class NonLinearRegression(nn.Module):\n",
    "    def __init__(self):\n",
    "        super(NonLinearRegression,self).__init__()\n",
    "        self.fc1 = nn.Linear(1,10)\n",
    "        self.tanh = nn.Tanh()\n",
    "        self.fc2 = nn.Linear(10,1)\n",
    "    \n",
    "    #定义网络计算\n",
    "    def forward(self,x):\n",
    "        x = self.fc1(x)\n",
    "        x = self.tanh(x)\n",
    "        x = self.fc2(x)\n",
    "        return x"
   ]
  },
  {
   "cell_type": "code",
   "execution_count": 10,
   "metadata": {
    "ExecuteTime": {
     "end_time": "2020-11-22T10:18:10.521924Z",
     "start_time": "2020-11-22T10:18:10.512035Z"
    }
   },
   "outputs": [],
   "source": [
    "# 定义模型\n",
    "model = NonLinearRegression()\n",
    "# 定义代价函数\n",
    "mse_loss = nn.MSELoss()\n",
    "# 定义优化器\n",
    "optimizer = optim.SGD(model.parameters(),lr=0.3)"
   ]
  },
  {
   "cell_type": "code",
   "execution_count": 11,
   "metadata": {
    "ExecuteTime": {
     "end_time": "2020-11-22T10:18:12.950300Z",
     "start_time": "2020-11-22T10:18:12.935136Z"
    }
   },
   "outputs": [
    {
     "name": "stdout",
     "output_type": "stream",
     "text": [
      "name:fc1.weight,parm:Parameter containing:\n",
      "tensor([[ 0.5304],\n",
      "        [ 0.0467],\n",
      "        [ 0.5559],\n",
      "        [-0.2300],\n",
      "        [-0.2953],\n",
      "        [-0.4734],\n",
      "        [ 0.1125],\n",
      "        [-0.9720],\n",
      "        [-0.1323],\n",
      "        [-0.6957]], requires_grad=True)\n",
      "name:fc1.bias,parm:Parameter containing:\n",
      "tensor([-0.3930,  0.9884, -0.5635,  0.7181, -0.3024,  0.4732, -0.3080,  0.7433,\n",
      "         0.7773,  0.9588], requires_grad=True)\n",
      "name:fc2.weight,parm:Parameter containing:\n",
      "tensor([[-0.1742,  0.2241, -0.0520,  0.2701,  0.1178, -0.2801,  0.2115,  0.1022,\n",
      "          0.1756, -0.1149]], requires_grad=True)\n",
      "name:fc2.bias,parm:Parameter containing:\n",
      "tensor([0.0401], requires_grad=True)\n"
     ]
    }
   ],
   "source": [
    "for name,parameters in model.named_parameters():\n",
    "    print(\"name:{},parm:{}\".format(name,parameters))"
   ]
  },
  {
   "cell_type": "code",
   "execution_count": 12,
   "metadata": {
    "ExecuteTime": {
     "end_time": "2020-11-22T10:18:28.363189Z",
     "start_time": "2020-11-22T10:18:27.034661Z"
    }
   },
   "outputs": [
    {
     "name": "stdout",
     "output_type": "stream",
     "text": [
      "0 2.557589054107666\n",
      "200 0.15273652970790863\n",
      "400 0.0750286877155304\n",
      "600 0.07509291917085648\n",
      "800 0.06641514599323273\n",
      "1000 0.06378678232431412\n",
      "1200 0.0626164972782135\n",
      "1400 0.061991170048713684\n",
      "1600 0.0616515576839447\n",
      "1800 0.06143888086080551\n",
      "2000 0.06128882244229317\n"
     ]
    }
   ],
   "source": [
    "for i in range(2001):\n",
    "    out = model(inputs)\n",
    "    # 计算loss\n",
    "    loss = mse_loss(out,target)\n",
    "    # 梯度清0\n",
    "    optimizer.zero_grad()\n",
    "    # 计算梯度\n",
    "    loss.backward()\n",
    "    # 修改权值\n",
    "    optimizer.step()\n",
    "    if i%200==0:\n",
    "        print(i,loss.item())"
   ]
  },
  {
   "cell_type": "code",
   "execution_count": 13,
   "metadata": {
    "ExecuteTime": {
     "end_time": "2020-11-22T10:18:29.770553Z",
     "start_time": "2020-11-22T10:18:29.559209Z"
    }
   },
   "outputs": [
    {
     "data": {
      "image/png": "[encoded data removed]",
      "text/plain": [
       "<Figure size 432x288 with 1 Axes>"
      ]
     },
     "metadata": {
      "needs_background": "light"
     },
     "output_type": "display_data"
    }
   ],
   "source": [
    "y_pred = model(inputs)\n",
    "plt.scatter(x_data,y_data)\n",
    "plt.plot(x_data,y_pred.data.numpy(),'r-',lw=3)\n",
    "plt.show()"
   ]
  },
  {
   "cell_type": "code",
   "execution_count": null,
   "metadata": {},
   "outputs": [],
   "source": []
  }
 ],
 "metadata": {
  "kernelspec": {
   "display_name": "Python 3",
   "language": "python",
   "name": "python3"
  },
  "language_info": {
   "codemirror_mode": {
    "name": "ipython",
    "version": 3
   },
   "file_extension": ".py",
   "mimetype": "text/x-python",
   "name": "python",
   "nbconvert_exporter": "python",
   "pygments_lexer": "ipython3",
   "version": "3.8.3"
  },
  "toc": {
   "base_numbering": 1,
   "nav_menu": {},
   "number_sections": true,
   "sideBar": true,
   "skip_h1_title": false,
   "title_cell": "Table of Contents",
   "title_sidebar": "Contents",
   "toc_cell": false,
   "toc_position": {},
   "toc_section_display": true,
   "toc_window_display": false
  },
  "varInspector": {
   "cols": {
    "lenName": 16,
    "lenType": 16,
    "lenVar": 40
   },
   "kernels_config": {
    "python": {
     "delete_cmd_postfix": "",
     "delete_cmd_prefix": "del ",
     "library": "var_list.py",
     "varRefreshCmd": "print(var_dic_list())"
    },
    "r": {
     "delete_cmd_postfix": ") ",
     "delete_cmd_prefix": "rm(",
     "library": "var_list.r",
     "varRefreshCmd": "cat(var_dic_list()) "
    }
   },
   "types_to_exclude": [
    "module",
    "function",
    "builtin_function_or_method",
    "instance",
    "_Feature"
   ],
   "window_display": false
  }
 },
 "nbformat": 4,
 "nbformat_minor": 4
}
