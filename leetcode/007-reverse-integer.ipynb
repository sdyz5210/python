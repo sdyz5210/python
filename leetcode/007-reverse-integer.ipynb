{
 "cells": [
  {
   "cell_type": "markdown",
   "metadata": {},
   "source": [
    "# 整数反转\n",
    "\n",
    "给出一个 32 位的有符号整数，你需要将这个整数中每位上的数字进行反转。\n",
    "\n",
    "示例 1:\n",
    "\n",
    "输入: 123\n",
    "输出: 321\n",
    " 示例 2:\n",
    "\n",
    "输入: -123\n",
    "输出: -321\n",
    "示例 3:\n",
    "\n",
    "输入: 120\n",
    "输出: 21\n",
    "注意:\n",
    "\n",
    "假设我们的环境只能存储得下 32 位的有符号整数，则其数值范围为 [−231,  231 − 1]。请根据这个假设，如果反转后整数溢出那么就返回 0。"
   ]
  },
  {
   "cell_type": "code",
   "execution_count": 33,
   "metadata": {},
   "outputs": [
    {
     "name": "stdout",
     "output_type": "stream",
     "text": [
      "-4294967296\n",
      "2147483647\n",
      "-2147483651\n"
     ]
    }
   ],
   "source": [
    "a = -2147483651\n",
    "print -2**32\n",
    "print 2**31-1\n",
    "if (-2**32 <= a <= (2**31-1)):\n",
    "    print a\n",
    "else:\n",
    "    print 0"
   ]
  },
  {
   "cell_type": "markdown",
   "metadata": {},
   "source": [
    "## 方法一\n",
    "\n",
    "主要利用了list的reverse函数"
   ]
  },
  {
   "cell_type": "code",
   "execution_count": 6,
   "metadata": {},
   "outputs": [],
   "source": [
    "class Solution(object):\n",
    "    def reverse(self, x):\n",
    "        \"\"\"\n",
    "        :type x: int\n",
    "        :rtype: int\n",
    "        \"\"\"\n",
    "        strx = str(x)\n",
    "        prex = \"\"\n",
    "        l = list(strx)\n",
    "        if strx.startswith(\"-\"):\n",
    "            prex = \"-\"\n",
    "            l.pop(0)\n",
    "        l.reverse()\n",
    "        tempx = int(\"\".join(l))\n",
    "        tempx = tempx if (prex != \"-\") else -tempx\n",
    "        if (-2**31 <= tempx <= (2**31-1)):\n",
    "            return tempx\n",
    "        else:\n",
    "            return 0"
   ]
  },
  {
   "cell_type": "markdown",
   "metadata": {},
   "source": [
    "## 方法二\n",
    "\n",
    "首先考虑正向分解，基于下面的方法，使用 % 计算获取最后一位，使用 / 获取前面的内容。\n",
    "\n",
    "注意：在python2版本中，对于负数的 % 计算会有差异，考虑先把整数转成正整数再进行处理。"
   ]
  },
  {
   "cell_type": "code",
   "execution_count": 32,
   "metadata": {
    "scrolled": false
   },
   "outputs": [
    {
     "name": "stdout",
     "output_type": "stream",
     "text": [
      "5\n",
      "1234\n"
     ]
    }
   ],
   "source": [
    "a = 12345\n",
    "pop = a%10\n",
    "a = a/10\n",
    "\n",
    "print pop\n",
    "print a"
   ]
  },
  {
   "cell_type": "markdown",
   "metadata": {},
   "source": [
    "再次，反向整合"
   ]
  },
  {
   "cell_type": "code",
   "execution_count": 12,
   "metadata": {},
   "outputs": [
    {
     "data": {
      "text/plain": [
       "5"
      ]
     },
     "execution_count": 12,
     "metadata": {},
     "output_type": "execute_result"
    }
   ],
   "source": [
    "rev = 0\n",
    "rev = rev*10+pop\n",
    "\n",
    "rev"
   ]
  },
  {
   "cell_type": "code",
   "execution_count": 25,
   "metadata": {},
   "outputs": [
    {
     "name": "stdout",
     "output_type": "stream",
     "text": [
      "6\n"
     ]
    }
   ],
   "source": [
    "class Solution(object):\n",
    "    def reverse(self, x):\n",
    "        \"\"\"\n",
    "        :type x: int\n",
    "        :rtype: int\n",
    "        \"\"\"\n",
    "        rev = 0\n",
    "        temp = 0\n",
    "        if x < 0:\n",
    "            x = -x\n",
    "            temp = 1\n",
    "        while(x != 0):\n",
    "            pop = x % 10\n",
    "            x /= 10\n",
    "            rev = rev*10 + pop\n",
    "        if temp == 1:\n",
    "            rev = -rev\n",
    "        if (-2**31 <= rev <= (2**31-1)):\n",
    "            return rev\n",
    "        else:\n",
    "            return 0F"
   ]
  },
  {
   "cell_type": "code",
   "execution_count": null,
   "metadata": {},
   "outputs": [],
   "source": []
  }
 ],
 "metadata": {
  "kernelspec": {
   "display_name": "Python 2",
   "language": "python",
   "name": "python2"
  },
  "language_info": {
   "codemirror_mode": {
    "name": "ipython",
    "version": 2
   },
   "file_extension": ".py",
   "mimetype": "text/x-python",
   "name": "python",
   "nbconvert_exporter": "python",
   "pygments_lexer": "ipython2",
   "version": "2.7.10"
  },
  "toc": {
   "base_numbering": 1,
   "nav_menu": {},
   "number_sections": true,
   "sideBar": true,
   "skip_h1_title": false,
   "title_cell": "Table of Contents",
   "title_sidebar": "Contents",
   "toc_cell": false,
   "toc_position": {},
   "toc_section_display": true,
   "toc_window_display": false
  }
 },
 "nbformat": 4,
 "nbformat_minor": 2
}
