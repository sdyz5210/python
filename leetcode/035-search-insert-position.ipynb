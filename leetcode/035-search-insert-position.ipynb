{
 "cells": [
  {
   "cell_type": "markdown",
   "metadata": {},
   "source": [
    "# 搜索插入位置\n",
    "\n",
    "给定一个排序数组和一个目标值，在数组中找到目标值，并返回其索引。如果目标值不存在于数组中，返回它将会被按顺序插入的位置。\n",
    "\n",
    "你可以假设数组中无重复元素。\n",
    "\n",
    "示例 1:\n",
    "\n",
    "输入: [1,3,5,6], 5\n",
    "输出: 2\n",
    "示例 2:\n",
    "\n",
    "输入: [1,3,5,6], 2\n",
    "输出: 1\n",
    "示例 3:\n",
    "\n",
    "输入: [1,3,5,6], 7\n",
    "输出: 4\n",
    "示例 4:\n",
    "\n",
    "输入: [1,3,5,6], 0\n",
    "输出: 0\n",
    "    \n",
    "## 方法一"
   ]
  },
  {
   "cell_type": "code",
   "execution_count": 1,
   "metadata": {},
   "outputs": [],
   "source": [
    "class Solution(object):\n",
    "    def searchInsert(self, nums, target):\n",
    "        \"\"\"\n",
    "        :type nums: List[int]\n",
    "        :type target: int\n",
    "        :rtype: int\n",
    "        \"\"\"\n",
    "        index = 0\n",
    "        if target in nums:\n",
    "            return nums.index(target)\n",
    "        else:\n",
    "            for idx,num in enumerate(nums):\n",
    "                if target < nums[0]:\n",
    "                    index = 0\n",
    "                    break\n",
    "                if target < num:\n",
    "                    index = idx\n",
    "                    break\n",
    "                if target > nums[len(nums) - 1]:\n",
    "                    index = idx+1\n",
    "        return index"
   ]
  },
  {
   "cell_type": "markdown",
   "metadata": {},
   "source": [
    "## 方法二\n",
    "\n",
    "从评论里面看到的，牛逼.\n",
    "\n",
    "不过python自带方法的效率有点低"
   ]
  },
  {
   "cell_type": "code",
   "execution_count": 2,
   "metadata": {},
   "outputs": [],
   "source": [
    "class Solution(object):\n",
    "    def searchInsert(self, nums, target):\n",
    "        \"\"\"\n",
    "        :type nums: List[int]\n",
    "        :type target: int\n",
    "        :rtype: int\n",
    "        \"\"\"\n",
    "        if target in nums:\n",
    "            return nums.index(target)\n",
    "        else:\n",
    "            nums.append(target)\n",
    "            nums.sort()\n",
    "            return nums.index(target)"
   ]
  },
  {
   "cell_type": "markdown",
   "metadata": {},
   "source": [
    "## 方法三\n",
    "\n",
    "考虑通过二分查找来实现"
   ]
  },
  {
   "cell_type": "code",
   "execution_count": null,
   "metadata": {},
   "outputs": [],
   "source": [
    "class Solution(object):\n",
    "    def searchInsert(self, nums, target):\n",
    "        \"\"\"\n",
    "        :type nums: List[int]\n",
    "        :type target: int\n",
    "        :rtype: int\n",
    "        \"\"\"\n",
    "        low = 0\n",
    "        high = len(nums)\n",
    "        while low < high:\n",
    "            mid = (low+high) / 2\n",
    "            if target < nums[mid]:\n",
    "                high = mid\n",
    "            elif target > nums[mid]:\n",
    "                low = mid + 1\n",
    "            else:\n",
    "                return mid\n",
    "        return low"
   ]
  }
 ],
 "metadata": {
  "kernelspec": {
   "display_name": "Python 2",
   "language": "python",
   "name": "python2"
  },
  "language_info": {
   "codemirror_mode": {
    "name": "ipython",
    "version": 2
   },
   "file_extension": ".py",
   "mimetype": "text/x-python",
   "name": "python",
   "nbconvert_exporter": "python",
   "pygments_lexer": "ipython2",
   "version": "2.7.10"
  },
  "toc": {
   "base_numbering": 1,
   "nav_menu": {},
   "number_sections": true,
   "sideBar": true,
   "skip_h1_title": false,
   "title_cell": "Table of Contents",
   "title_sidebar": "Contents",
   "toc_cell": false,
   "toc_position": {},
   "toc_section_display": true,
   "toc_window_display": false
  }
 },
 "nbformat": 4,
 "nbformat_minor": 2
}
