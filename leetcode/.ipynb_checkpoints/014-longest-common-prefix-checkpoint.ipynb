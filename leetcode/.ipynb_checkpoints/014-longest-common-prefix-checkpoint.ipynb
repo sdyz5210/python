{
 "cells": [
  {
   "cell_type": "markdown",
   "metadata": {},
   "source": [
    "# 最长公共前缀\n",
    "\n",
    "\n",
    "编写一个函数来查找字符串数组中的最长公共前缀。\n",
    "\n",
    "如果不存在公共前缀，返回空字符串 \"\"。\n",
    "\n",
    "* 示例 1:\n",
    "\n",
    "* * 输入: [\"flower\",\"flow\",\"flight\"]\n",
    "\n",
    "* * 输出: \"fl\"\n",
    "\n",
    "* 示例 2:\n",
    "\n",
    "* * 输入: [\"dog\",\"racecar\",\"car\"]\n",
    "* * 输出: \"\"\n",
    "\n",
    "解释: 输入不存在公共前缀。\n",
    "\n",
    "说明:\n",
    "\n",
    "所有输入只包含小写字母 a-z 。"
   ]
  },
  {
   "cell_type": "code",
   "execution_count": 9,
   "metadata": {},
   "outputs": [
    {
     "data": {
      "text/plain": [
       "'fly'"
      ]
     },
     "execution_count": 9,
     "metadata": {},
     "output_type": "execute_result"
    }
   ],
   "source": [
    "reduce(lambda x, y: x if len(x) < len(y) else y, strs)"
   ]
  },
  {
   "cell_type": "markdown",
   "metadata": {},
   "source": [
    "## 方法一\n",
    "\n",
    "此题没有想到好的办法，只考虑到了从最短字符串开始着手\n"
   ]
  },
  {
   "cell_type": "code",
   "execution_count": null,
   "metadata": {},
   "outputs": [],
   "source": [
    "class Solution(object):\n",
    "    def longestCommonPrefix(self, strs):\n",
    "        \"\"\"\n",
    "        :type strs: List[str]\n",
    "        :rtype: str\n",
    "        \"\"\"\n",
    "        if len(strs)  == 0:\n",
    "            return \"\"\n",
    "        elif len(strs)  == 1:\n",
    "            return strs[0]\n",
    "        \n",
    "        ex = reduce(lambda x, y: x if len(x) < len(y) else y, strs)\n",
    "        for i in range(len(strs)):\n",
    "            while strs[i].find(ex,0)!=0:\n",
    "                ex = ex[0:len(ex)-1]\n",
    "        if ex==\"\":\n",
    "            return \"\"\n",
    "        else:\n",
    "            return ex"
   ]
  }
 ],
 "metadata": {
  "kernelspec": {
   "display_name": "Python 2",
   "language": "python",
   "name": "python2"
  },
  "language_info": {
   "codemirror_mode": {
    "name": "ipython",
    "version": 2
   },
   "file_extension": ".py",
   "mimetype": "text/x-python",
   "name": "python",
   "nbconvert_exporter": "python",
   "pygments_lexer": "ipython2",
   "version": "2.7.10"
  },
  "toc": {
   "base_numbering": 1,
   "nav_menu": {},
   "number_sections": true,
   "sideBar": true,
   "skip_h1_title": false,
   "title_cell": "Table of Contents",
   "title_sidebar": "Contents",
   "toc_cell": false,
   "toc_position": {},
   "toc_section_display": true,
   "toc_window_display": false
  }
 },
 "nbformat": 4,
 "nbformat_minor": 2
}
