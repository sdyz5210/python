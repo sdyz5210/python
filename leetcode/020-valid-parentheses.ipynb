{
 "cells": [
  {
   "cell_type": "markdown",
   "metadata": {},
   "source": [
    "# 有效的括号\n",
    "\n",
    "给定一个只包括 '('，')'，'{'，'}'，'['，']' 的字符串，判断字符串是否有效。\n",
    "\n",
    "有效字符串需满足：\n",
    "\n",
    "* 左括号必须用相同类型的右括号闭合。\n",
    "* 左括号必须以正确的顺序闭合。\n",
    "* 注意空字符串可被认为是有效字符串。\n",
    "\n",
    "示例 1:\n",
    "\n",
    "* 输入: \"()\"\n",
    "* 输出: true\n",
    "\n",
    "示例 2:\n",
    "\n",
    "* 输入: \"()[]{}\"\n",
    "* 输出: true\n",
    "\n",
    "示例 3:\n",
    "\n",
    "* 输入: \"(]\"\n",
    "* 输出: false\n",
    "\n",
    "示例 4:\n",
    "\n",
    "* 输入: \"([)]\"\n",
    "* 输出: false\n",
    "\n",
    "示例 5:\n",
    "\n",
    "* 输入: \"{[]}\"\n",
    "* 输出: true\n",
    "\n",
    "## 方法一\n",
    "\n",
    "这六个字符一定是成对出现的，规则类似于先进后出的堆栈数据结构，所以考虑实现一个类似的模型\n"
   ]
  },
  {
   "cell_type": "code",
   "execution_count": 1,
   "metadata": {},
   "outputs": [],
   "source": [
    "class Solution(object):\n",
    "    def isValid(self, s):\n",
    "        \"\"\"\n",
    "        :type s: str\n",
    "        :rtype: bool\n",
    "        \"\"\"\n",
    "        d1 = {\"(\":\")\",\"[\":\"]\",\"{\":\"}\"}\n",
    "        d2 = {\")\":\"(\",\"]\":\"[\",\"}\":\"{\"}\n",
    "        l = []\n",
    "        for i in s:\n",
    "            iskey = d1.has_key(i)\n",
    "            if iskey:\n",
    "                l.append(i)\n",
    "            elif len(l) > 0:\n",
    "                val = d2[i]\n",
    "                if val == l[-1]:\n",
    "                    l.pop()\n",
    "                else:\n",
    "                    l.append(i)\n",
    "            else:\n",
    "                return False\n",
    "        if len(l)<1:\n",
    "            return True\n",
    "        else:\n",
    "            return False"
   ]
  },
  {
   "cell_type": "markdown",
   "metadata": {},
   "source": [
    "基于以上的程序可以进一步的优化代码"
   ]
  },
  {
   "cell_type": "code",
   "execution_count": null,
   "metadata": {},
   "outputs": [],
   "source": [
    "class Solution(object):\n",
    "    def isValid(self, s):\n",
    "        \"\"\"\n",
    "        :type s: str\n",
    "        :rtype: bool\n",
    "        \"\"\"\n",
    "        stack = []\n",
    "        mapping = {\")\":\"(\",\"]\":\"[\",\"}\":\"{\"}\n",
    "        \n",
    "        for char in s:\n",
    "            if char in mapping:\n",
    "                top_element = stack.pop() if stack else '#'\n",
    "                if mapping[char] != top_element:\n",
    "                    return False\n",
    "            else:\n",
    "                stack.append(char)\n",
    "        return not stack"
   ]
  }
 ],
 "metadata": {
  "kernelspec": {
   "display_name": "Python 2",
   "language": "python",
   "name": "python2"
  },
  "language_info": {
   "codemirror_mode": {
    "name": "ipython",
    "version": 2
   },
   "file_extension": ".py",
   "mimetype": "text/x-python",
   "name": "python",
   "nbconvert_exporter": "python",
   "pygments_lexer": "ipython2",
   "version": "2.7.10"
  },
  "toc": {
   "base_numbering": 1,
   "nav_menu": {},
   "number_sections": true,
   "sideBar": true,
   "skip_h1_title": false,
   "title_cell": "Table of Contents",
   "title_sidebar": "Contents",
   "toc_cell": false,
   "toc_position": {},
   "toc_section_display": true,
   "toc_window_display": false
  }
 },
 "nbformat": 4,
 "nbformat_minor": 2
}
